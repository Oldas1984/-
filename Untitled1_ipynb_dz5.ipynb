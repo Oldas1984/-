{
  "nbformat": 4,
  "nbformat_minor": 0,
  "metadata": {
    "colab": {
      "name": "Untitled1.ipynb dz5",
      "provenance": [],
      "authorship_tag": "ABX9TyN/yJBXbMoXAlxkOA17P0aj",
      "include_colab_link": true
    },
    "kernelspec": {
      "name": "python3",
      "display_name": "Python 3"
    },
    "language_info": {
      "name": "python"
    }
  },
  "cells": [
    {
      "cell_type": "markdown",
      "metadata": {
        "id": "view-in-github",
        "colab_type": "text"
      },
      "source": [
        "<a href=\"https://colab.research.google.com/github/Oldas1984/-/blob/main/Untitled1_ipynb_dz5.ipynb\" target=\"_parent\"><img src=\"https://colab.research.google.com/assets/colab-badge.svg\" alt=\"Open In Colab\"/></a>"
      ]
    },
    {
      "cell_type": "markdown",
      "source": [
        "n школьников делят k яблок поровну, неделящийся остаток остается в корзинке. Сколько яблок достанется каждому школьнику? Сколько яблок останется в корзинке? Программа получает на вход числа n и k и должна вывести искомое количество яблок (два числа)."
      ],
      "metadata": {
        "id": "7vQM8qPatRo-"
      }
    },
    {
      "cell_type": "code",
      "source": [
        "n = int (input())\n",
        "k = int (input())\n",
        "x = (k / n)\n",
        "y = (k - (x * n))\n",
        "print (x)\n",
        "print (y)"
      ],
      "metadata": {
        "colab": {
          "base_uri": "https://localhost:8080/"
        },
        "id": "z7yi74O_tRyz",
        "outputId": "2709f81a-85e4-4991-ccf5-41ee59783ca3"
      },
      "execution_count": 7,
      "outputs": [
        {
          "output_type": "stream",
          "name": "stdout",
          "text": [
            "4\n",
            "5\n",
            "1.25\n",
            "0.0\n"
          ]
        }
      ]
    },
    {
      "cell_type": "markdown",
      "source": [
        "Дано число n. С начала суток прошло n минут. Определите, сколько часов и минут будут показывать электронные часы в этот момент. Программа должна вывести два числа: количество часов (от 0 до 23) и количество минут (от 0 до 59). Учтите, что число n может быть больше, чем количество минут в сутках."
      ],
      "metadata": {
        "id": "arB0OJ8WuPwu"
      }
    },
    {
      "cell_type": "code",
      "source": [
        "n = int(input())\n",
        "a = n % (24*60)//60\n",
        "b = n % 60\n",
        "print(a,b)"
      ],
      "metadata": {
        "colab": {
          "base_uri": "https://localhost:8080/"
        },
        "id": "tTr97dlUuQE9",
        "outputId": "fb894cd5-b624-49bf-e0e9-c42ea73b8abe"
      },
      "execution_count": 5,
      "outputs": [
        {
          "output_type": "stream",
          "name": "stdout",
          "text": [
            "14\n",
            "0 14\n"
          ]
        }
      ]
    },
    {
      "cell_type": "markdown",
      "source": [
        "Дано натуральное число. Требуется определить, является ли год с данным номером високосным. Если год является високосным, то выведите YES, иначе выведите NO. Напомним, что в соответствии с григорианским календарем, год является високосным, если его номер кратен 4, но не кратен 100, а также если он кратен 400."
      ],
      "metadata": {
        "id": "XwVQPHicxWI9"
      }
    },
    {
      "cell_type": "code",
      "source": [
        "year = int(input())\n",
        "if (year % 4 == 0) and (year != 100) or (year % 400 == 0):\n",
        "    print(\"YES\")\n",
        "else:\n",
        "    print(\"NO\")"
      ],
      "metadata": {
        "id": "FHSuaDddxWUv"
      },
      "execution_count": null,
      "outputs": []
    },
    {
      "cell_type": "markdown",
      "source": [
        "Даны три целых числа. Выведите значение наименьшего из них."
      ],
      "metadata": {
        "id": "NiTgEPwzx-Xs"
      }
    },
    {
      "cell_type": "code",
      "source": [
        "a=int(input())\n",
        "b=int(input())\n",
        "c=int(input())\n",
        "if a>b>c:\n",
        "   print(c)\n",
        "elif a<b<c:\n",
        "    print(a)\n",
        "else:\n",
        "    print(b)\n"
      ],
      "metadata": {
        "colab": {
          "base_uri": "https://localhost:8080/"
        },
        "id": "VNUSc9iMx-pj",
        "outputId": "e1e897bd-82df-4bda-dd10-8e565cd9e207"
      },
      "execution_count": 6,
      "outputs": [
        {
          "output_type": "stream",
          "name": "stdout",
          "text": [
            "1\n",
            "2\n",
            "3\n",
            "1\n"
          ]
        }
      ]
    },
    {
      "cell_type": "markdown",
      "source": [
        "Заданы две клетки шахматной доски. Если они покрашены в один цвет, то выведите слово YES, а если в разные цвета — то NO. Программа получает на вход четыре числа от 1 до 8 каждое, задающие номер столбца и номер строки сначала для первой клетки, потом для второй клетки."
      ],
      "metadata": {
        "id": "oSUax68CzauG"
      }
    },
    {
      "cell_type": "code",
      "source": [
        "x1=int(input())\n",
        "y1=int(input())\n",
        "x2=int(input())\n",
        "y2=int(input())\n",
        "if (x1+y1+x2+y2)%2==0:\n",
        "    print('YES')\n",
        "else:\n",
        "    print('NO')"
      ],
      "metadata": {
        "id": "wA-TW4PIza5K"
      },
      "execution_count": null,
      "outputs": []
    },
    {
      "cell_type": "markdown",
      "source": [
        "Шахматная ладья ходит по горизонтали или вертикали. Даны две различные клетки шахматной доски, определите, может ли ладья попасть с первой клетки на вторую одним ходом. Программа получает на вход четыре числа от 1 до 8 каждое, задающие номер столбца и номер строки сначала для первой клетки, потом для второй клетки. Программа должна вывести YES, если из первой клетки ходом ладьи можно попасть во вторую или NO в противном случае."
      ],
      "metadata": {
        "id": "DN7q6G_s065W"
      }
    },
    {
      "cell_type": "code",
      "source": [
        "x1 = int(input())\n",
        "y1 = int(input())\n",
        "x2 = int(input())\n",
        "y2 = int(input())\n",
        "if x1 == x2 or y1 == y2:\n",
        "    print('YES')\n",
        "else:\n",
        "    print('NO')"
      ],
      "metadata": {
        "id": "7cpa3vUW07MF"
      },
      "execution_count": null,
      "outputs": []
    },
    {
      "cell_type": "markdown",
      "source": [
        "Шахматный конь ходит буквой “Г” — на две клетки по вертикали в любом направлении и на одну клетку по горизонтали, или наоборот. Даны две различные клетки шахматной доски, определите, может ли конь попасть с первой клетки на вторую одним ходом."
      ],
      "metadata": {
        "id": "ElNzH3IX2WTj"
      }
    },
    {
      "cell_type": "code",
      "source": [
        "x1 = int(input())\n",
        "y1 = int(input())\n",
        "x2 = int(input())\n",
        "y2 = int(input())\n",
        "if (x1 == x2 + 2 or x1 == x2 - 2) and (y1 == y2 - 1 or y1 == y2 + 1) or (x1 == x2 + 1 or x1 == x2 - 1) and (y1 == y2 - 2 or y1 == y2 + 2):\n",
        "print(\"YES\")\n",
        "else:\n",
        "print(\"NO\")"
      ],
      "metadata": {
        "id": "HCqb94V72hWz"
      },
      "execution_count": null,
      "outputs": []
    },
    {
      "cell_type": "markdown",
      "source": [
        " Яша плавал в бассейне размером N × M метров и устал. В этот момент он обнаружил, что находится на расстоянии x метров от одного из длинных бортиков (не обязательно от ближайшего) и y метров от одного из коротких бортиков. Какое минимальное расстояние должен проплыть Яша, чтобы выбраться из бассейна на бортик? Программа получает на вход числа N, M, x, y. Программа должна вывести число метров, которое нужно проплыть Яше до бортика."
      ],
      "metadata": {
        "id": "Wz90W4ME2m74"
      }
    },
    {
      "cell_type": "code",
      "source": [
        "N=int(input())\n",
        "M=int(input())\n",
        "x=int(input())\n",
        "y=int(input())\n",
        "if n>m:\n",
        "    n, m = m, n\n",
        "if x>=n / 2:\n",
        "    x=n-x\n",
        "if y>=m/2:\n",
        "    y=m-y\n",
        "if x<y:\n",
        "    print(x)\n",
        "else:\n",
        "    print(y)"
      ],
      "metadata": {
        "id": "BeAJ9AA52nMK"
      },
      "execution_count": null,
      "outputs": []
    }
  ]
}