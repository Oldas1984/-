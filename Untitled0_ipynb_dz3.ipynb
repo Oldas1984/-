{
  "nbformat": 4,
  "nbformat_minor": 0,
  "metadata": {
    "colab": {
      "name": "Untitled0.ipynb dz3",
      "provenance": [],
      "authorship_tag": "ABX9TyPJCWWNl3iu/DM6vpJDBtHx",
      "include_colab_link": true
    },
    "kernelspec": {
      "name": "python3",
      "display_name": "Python 3"
    },
    "language_info": {
      "name": "python"
    }
  },
  "cells": [
    {
      "cell_type": "markdown",
      "metadata": {
        "id": "view-in-github",
        "colab_type": "text"
      },
      "source": [
        "<a href=\"https://colab.research.google.com/github/Oldas1984/-/blob/main/Untitled0_ipynb_dz3.ipynb\" target=\"_parent\"><img src=\"https://colab.research.google.com/assets/colab-badge.svg\" alt=\"Open In Colab\"/></a>"
      ]
    },
    {
      "cell_type": "markdown",
      "source": [
        "Написать калькулятор для вычисления дискриминанта. На вход подаются коэффициенты квадратного уравнения, выход - значение дискриминанта."
      ],
      "metadata": {
        "id": "GqMc1DkxR-Mn"
      }
    },
    {
      "cell_type": "code",
      "source": [
        "print(\"\")\n",
        "a=int(input())\n",
        "b=int(input())\n",
        "c=int(input())\n",
        "D1=(-b+((b*b-4*a*c)**0.5))/(2*a)\n",
        "D2=(-b-((b*b-4*a*c)**0.5))/(2*a)\n",
        "print(D1)\n",
        "print(D2)"
      ],
      "metadata": {
        "colab": {
          "base_uri": "https://localhost:8080/"
        },
        "id": "e65aDayoR-Ze",
        "outputId": "aa8beddb-e5ad-4781-bda0-99daf1eb7165"
      },
      "execution_count": 1,
      "outputs": [
        {
          "output_type": "stream",
          "name": "stdout",
          "text": [
            "\n",
            "4\n",
            "5\n",
            "6\n",
            "(-0.6249999999999999+1.0532687216470449j)\n",
            "(-0.6250000000000001-1.0532687216470449j)\n"
          ]
        }
      ]
    },
    {
      "cell_type": "markdown",
      "source": [
        "По данному целому числу N распечатайте все квадраты натуральных чисел, не превосходящие N, в порядке возрастания.\n"
      ],
      "metadata": {
        "id": "iRcaQR2SWxUE"
      }
    },
    {
      "cell_type": "code",
      "source": [
        "print(\"\")\n",
        "N=int(input())\n",
        "i=1\n",
        "while i**2<=N:\n",
        "    print(i**2)\n",
        "    i+=1\n",
        "\n"
      ],
      "metadata": {
        "colab": {
          "base_uri": "https://localhost:8080/"
        },
        "id": "VWCGT6tgWxlp",
        "outputId": "4793ad3f-eef1-4163-85b0-f10437f3addc"
      },
      "execution_count": 5,
      "outputs": [
        {
          "output_type": "stream",
          "name": "stdout",
          "text": [
            "\n",
            "16\n",
            "1\n",
            "4\n",
            "9\n",
            "16\n"
          ]
        }
      ]
    },
    {
      "cell_type": "markdown",
      "source": [
        "Дано целое число, не меньшее 2. Выведите его наименьший натуральный делитель, отличный от 1."
      ],
      "metadata": {
        "id": "NUbrkp9WXpni"
      }
    },
    {
      "cell_type": "code",
      "source": [
        "print(\"\")\n",
        "n = int(input())\n",
        "i = 2\n",
        "while n % i != 0:\n",
        "    i += 1\n",
        "print(i)"
      ],
      "metadata": {
        "colab": {
          "base_uri": "https://localhost:8080/"
        },
        "id": "J4-nHU_OXp4-",
        "outputId": "0deb6d64-2da1-4463-b995-7ccf5c0eac96"
      },
      "execution_count": 8,
      "outputs": [
        {
          "output_type": "stream",
          "name": "stdout",
          "text": [
            "\n",
            "2\n",
            "2\n"
          ]
        }
      ]
    },
    {
      "cell_type": "markdown",
      "source": [
        "Последовательность Фибоначчи определяется так:\n",
        "f_0 = 0,  f_1 = 1,  f_n = f_{n−1} + f_{n−2}\n",
        "По данному числу n определите n-е число Фибоначчи f_n."
      ],
      "metadata": {
        "id": "s_Gs5E8JYIGN"
      }
    },
    {
      "cell_type": "code",
      "source": [
        "print()\n",
        "n=int(input())\n",
        "if n==0:\n",
        "    print(0)\n",
        "else:\n",
        "    a, b = 0, 1\n",
        "    for i in range(2, n+1):\n",
        "        a, b=b, a+b\n",
        "    print(b)"
      ],
      "metadata": {
        "id": "xEJFv1uZYIYj"
      },
      "execution_count": null,
      "outputs": []
    },
    {
      "cell_type": "markdown",
      "source": [
        "Выведите все четные элементы списка. При этом используйте цикл for, перебирающий элементы списка, а не их индексы!"
      ],
      "metadata": {
        "id": "jq-ppA5IcNBY"
      }
    },
    {
      "cell_type": "code",
      "source": [
        "array = [1,2,3,4,5,6,7,8,9]\n",
        "nums=array\n",
        "for i in range(0, len(nums), 2):\n",
        "    print(nums[i])"
      ],
      "metadata": {
        "colab": {
          "base_uri": "https://localhost:8080/"
        },
        "id": "2f0tAWI1cNR0",
        "outputId": "342f7c5e-7265-4bc8-c77f-f7b57b5010de"
      },
      "execution_count": 10,
      "outputs": [
        {
          "output_type": "stream",
          "name": "stdout",
          "text": [
            "1\n",
            "3\n",
            "5\n",
            "7\n",
            "9\n"
          ]
        }
      ]
    },
    {
      "cell_type": "markdown",
      "source": [
        "Дан список чисел. Если в нем есть два соседних элемента одного знака, выведите эти числа. Если соседних элементов одного знака нет — не выводите ничего. Если таких пар соседей несколько — выведите первую пару."
      ],
      "metadata": {
        "id": "kSvSDo7kdb2V"
      }
    },
    {
      "cell_type": "code",
      "source": [
        "array = [1,2,2,3,4,4]\n",
        "nums=array\n",
        "nums_2=[]\n",
        "for i in range(len(nums)):\n",
        "    if nums[i]%2==0:\n",
        "        print(nums[i])"
      ],
      "metadata": {
        "colab": {
          "base_uri": "https://localhost:8080/"
        },
        "id": "EDhqdyBndcTw",
        "outputId": "17c994f0-b746-48d2-94ff-5e9a3c59f7b9"
      },
      "execution_count": 14,
      "outputs": [
        {
          "output_type": "stream",
          "name": "stdout",
          "text": [
            "2\n",
            "2\n",
            "4\n",
            "4\n"
          ]
        }
      ]
    },
    {
      "cell_type": "markdown",
      "source": [
        "Петя перешёл в другую школу. На уроке физкультуры ему понадобилось определить своё место в строю. Помогите ему это сделать. Программа получает на вход невозрастающую последовательность натуральных чисел, означающих рост каждого человека в строю. После этого вводится число X – рост Пети. Все числа во входных данных натуральные и не превышают 200. Выведите номер, под которым Петя должен встать в строй. Если в строю есть люди с одинаковым ростом, таким же, как у Пети, то он должен встать после них."
      ],
      "metadata": {
        "id": "sXYaJhPSgRED"
      }
    },
    {
      "cell_type": "code",
      "source": [
        "array =(200,190,175,175,165,160,155)\n",
        "nums=array\n",
        "n=0\n",
        "x=int(input())\n",
        "for i in range(len(nums)-1):\n",
        "    if (x<nums[i] and x>nums[i+1]) or x==nums[i]:\n",
        "        n=i+2\n",
        "print(n)\n"
      ],
      "metadata": {
        "colab": {
          "base_uri": "https://localhost:8080/"
        },
        "id": "B8a4V22lgRRS",
        "outputId": "4d2c9c6a-9d2c-4107-ffa4-e83a8d21295e"
      },
      "execution_count": 19,
      "outputs": [
        {
          "output_type": "stream",
          "name": "stdout",
          "text": [
            "156\n",
            "7\n"
          ]
        }
      ]
    },
    {
      "cell_type": "markdown",
      "source": [
        "Дан список, упорядоченный по неубыванию элементов в нем. Определите, сколько в нем различных элементов."
      ],
      "metadata": {
        "id": "8hnTgOLjiQUv"
      }
    },
    {
      "cell_type": "code",
      "source": [
        "print()\n",
        "b=[int(i) for i in input().split()]\n",
        "raz=1\n",
        "for i in range(0, len(b)-1):\n",
        "    if b[i]!=b[i+1]:\n",
        "        raz+=1\n",
        "print(raz)"
      ],
      "metadata": {
        "colab": {
          "base_uri": "https://localhost:8080/"
        },
        "id": "UUNyzKu3iQkF",
        "outputId": "0670892e-62b8-4e99-ca04-e2302f7dcb0c"
      },
      "execution_count": 20,
      "outputs": [
        {
          "output_type": "stream",
          "name": "stdout",
          "text": [
            "\n",
            "1 2 3 4 5 6\n",
            "6\n"
          ]
        }
      ]
    },
    {
      "cell_type": "markdown",
      "source": [
        "Дан список чисел. Выведите значение наибольшего элемента в списке, а затем индекс этого элемента в списке. Если наибольших элементов несколько, выведите индекс первого из них.\n",
        "\n"
      ],
      "metadata": {
        "id": "FCU95bcfqai-"
      }
    },
    {
      "cell_type": "code",
      "source": [
        "inmax=0\n",
        "print()\n",
        "c=[int(i) for i in input().split()]\n",
        "for i in range(1, len(c)):\n",
        "    if c[i]>c[inmax]:\n",
        "        inmax=i\n",
        "print(c[inmax])\n",
        "print(inmax)"
      ],
      "metadata": {
        "id": "MqFdyW9Jqa0u"
      },
      "execution_count": null,
      "outputs": []
    },
    {
      "cell_type": "markdown",
      "source": [
        "Даные два вектора (списка), вычислить скалярное произведение\n",
        "\n"
      ],
      "metadata": {
        "id": "POaFINxaqqIL"
      }
    },
    {
      "cell_type": "code",
      "source": [
        "print()\n",
        "d=[int(i) for i in input().split()]\n",
        "r=[int(i) for i in input().split()]\n",
        "f=d[0]*r[0]+d[1]*r[1]+d[2]*r[2]\n",
        "print( f)"
      ],
      "metadata": {
        "colab": {
          "base_uri": "https://localhost:8080/"
        },
        "id": "oWSGVOpSqqTa",
        "outputId": "1f2cdd7f-7116-430a-f11c-5ae09522a376"
      },
      "execution_count": 31,
      "outputs": [
        {
          "output_type": "stream",
          "name": "stdout",
          "text": [
            "\n",
            "25 4 20\n",
            "44 55 33\n",
            "1980\n"
          ]
        }
      ]
    }
  ]
}