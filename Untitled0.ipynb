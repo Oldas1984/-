{
  "nbformat": 4,
  "nbformat_minor": 0,
  "metadata": {
    "colab": {
      "name": "Untitled0.ipynb",
      "provenance": [],
      "authorship_tag": "ABX9TyPJToQRP92gK34pcD6ij5tK",
      "include_colab_link": true
    },
    "kernelspec": {
      "name": "python3",
      "display_name": "Python 3"
    },
    "language_info": {
      "name": "python"
    }
  },
  "cells": [
    {
      "cell_type": "markdown",
      "metadata": {
        "id": "view-in-github",
        "colab_type": "text"
      },
      "source": [
        "<a href=\"https://colab.research.google.com/github/Oldas1984/-/blob/main/Untitled0.ipynb\" target=\"_parent\"><img src=\"https://colab.research.google.com/assets/colab-badge.svg\" alt=\"Open In Colab\"/></a>"
      ]
    },
    {
      "cell_type": "markdown",
      "source": [
        "Написать функцию, которая вычисляет среднее арифметическое элементов массива, переданного ей в качестве аргумента."
      ],
      "metadata": {
        "id": "6Umz7_Obb7ZT"
      }
    },
    {
      "cell_type": "code",
      "source": [
        "array=(1,2,3,4,5,6,7)\n",
        "a = len(array)\n",
        "def result():\n",
        "    c = 0\n",
        "    for i in range (a):\n",
        "        c += array[i]\n",
        "    s = c / a\n",
        "    return s\n",
        "print(result())\n",
        "\n"
      ],
      "metadata": {
        "colab": {
          "base_uri": "https://localhost:8080/"
        },
        "id": "mtgTN4kOb7nR",
        "outputId": "481bcb0b-7148-4f17-de36-f70badab815d"
      },
      "execution_count": 4,
      "outputs": [
        {
          "output_type": "stream",
          "name": "stdout",
          "text": [
            "4.0\n"
          ]
        }
      ]
    },
    {
      "cell_type": "markdown",
      "source": [
        "Написать две функции, которые будут переводить из десятичной СС в двоичную и обратно."
      ],
      "metadata": {
        "id": "vinbHWSffq0s"
      }
    },
    {
      "cell_type": "code",
      "source": [
        "a = int(input()) \n",
        "b = ''\n",
        "while a > 0:\n",
        "    b = str(a % 2) + b\n",
        "    a = a // 2\n",
        " \n",
        "print(b)\n"
      ],
      "metadata": {
        "colab": {
          "base_uri": "https://localhost:8080/"
        },
        "id": "pPJZ2HgVfrFL",
        "outputId": "a0f99399-f81c-4a21-ac91-a94e871f1885"
      },
      "execution_count": 9,
      "outputs": [
        {
          "output_type": "stream",
          "name": "stdout",
          "text": [
            "17\n",
            "10001\n"
          ]
        }
      ]
    },
    {
      "cell_type": "markdown",
      "source": [
        "Пользователь делает вклад в размере a рублей сроком на years лет под 10% годовых (каждый год размер его вклада увеличивается на 10%. Эти деньги прибавляются к сумме вклада, и на них в следующем году тоже будут проценты)."
      ],
      "metadata": {
        "id": "mqGrLAR8hopW"
      }
    },
    {
      "cell_type": "code",
      "source": [
        "def bank():\n",
        "    x = 10\n",
        "a = int(input())\n",
        "years = int(input())\n",
        "    for i in range(years):\n",
        "n = int(a+x*a/100)\n",
        "print(n)"
      ],
      "metadata": {
        "id": "X_ZLQurEho_L"
      },
      "execution_count": 28,
      "outputs": []
    },
    {
      "cell_type": "markdown",
      "source": [
        "Даны четыре действительных числа: x1, y1, x2, y2. Напишите функцию distance(x1, y1, x2, y2), вычисляющая расстояние между точкой (x1,y1) и (x2,y2). Считайте четыре действительных числа и выведите результат работы этой функции."
      ],
      "metadata": {
        "id": "Sas-UwSGlTsJ"
      }
    },
    {
      "cell_type": "code",
      "source": [
        "def distance():\n",
        "    return ((x1-x2)**2 + (y1-y2)**2)**0.5\n",
        "x1 = float(input())\n",
        "x2 = float(input())\n",
        "y1 = float(input())\n",
        "y2 = float(input())\n",
        "print(distance())"
      ],
      "metadata": {
        "id": "JqN2hYsXlT5y"
      },
      "execution_count": 41,
      "outputs": []
    },
    {
      "cell_type": "markdown",
      "source": [
        "Дано действительное положительное число a и целоe число n.\n",
        "Вычислите a^n. Решение оформите в виде функции power(a, n).\n",
        "Стандартной функцией возведения в степень пользоваться нельзя.\n",
        "Учтитье, что n может быть отрицательным."
      ],
      "metadata": {
        "id": "V0-03GXPmGyk"
      }
    },
    {
      "cell_type": "code",
      "source": [
        "def power():\n",
        "    s = 1\n",
        "    for i in range(abs(n)):\n",
        "        s *= a\n",
        "    if n >= 0:\n",
        "        return s\n",
        "    else:\n",
        "        return float(1/s)\n",
        "a = int(input())\n",
        "n = int(input())\n",
        "print(power())"
      ],
      "metadata": {
        "colab": {
          "base_uri": "https://localhost:8080/"
        },
        "id": "lPs3Bd8LmHFb",
        "outputId": "7436f4b4-ab33-40d6-9b79-8521c5f99322"
      },
      "execution_count": 39,
      "outputs": [
        {
          "output_type": "stream",
          "name": "stdout",
          "text": [
            "1\n",
            "2\n",
            "1\n"
          ]
        }
      ]
    },
    {
      "cell_type": "markdown",
      "source": [
        "3аписать функцию is_prime, принимающую 1 аргумент — число от 0 до 1000, и возвращающую True, если оно простое, и False - иначе."
      ],
      "metadata": {
        "id": "mXwY4KwhnHxG"
      }
    },
    {
      "cell_type": "code",
      "source": [
        "def is_prime():\n",
        "   if n < 2:\n",
        "       return False\n",
        "   if n == 2:\n",
        "       return True\n",
        "   i = 2\n",
        "   while i <= n**(1/2):\n",
        "       if n % i == 0:\n",
        "           return False\n",
        "       i += 1\n",
        "   return True\n",
        "n = int(input())\n",
        "print(is_prime())"
      ],
      "metadata": {
        "id": "KZ1REgcbnH7a"
      },
      "execution_count": null,
      "outputs": []
    }
  ]
}