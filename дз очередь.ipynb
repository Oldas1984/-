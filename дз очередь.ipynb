{
  "nbformat": 4,
  "nbformat_minor": 0,
  "metadata": {
    "colab": {
      "name": "Untitled1.ipynb",
      "provenance": [],
      "authorship_tag": "ABX9TyPwiWb/fZ2nFjVz12LDHd41",
      "include_colab_link": true
    },
    "kernelspec": {
      "name": "python3",
      "display_name": "Python 3"
    },
    "language_info": {
      "name": "python"
    }
  },
  "cells": [
    {
      "cell_type": "markdown",
      "metadata": {
        "id": "view-in-github",
        "colab_type": "text"
      },
      "source": [
        "<a href=\"https://colab.research.google.com/github/Oldas1984/-/blob/main/%D0%B4%D0%B7%20%D0%BE%D1%87%D0%B5%D1%80%D0%B5%D0%B4%D1%8C.ipynb\" target=\"_parent\"><img src=\"https://colab.research.google.com/assets/colab-badge.svg\" alt=\"Open In Colab\"/></a>"
      ]
    },
    {
      "cell_type": "code",
      "source": [
        "# Структура для очереди\n",
        "\n",
        "class Queue:\n",
        "\t# основа кода\n",
        "    def __init__(self):\n",
        "    \tself.queue = []\n",
        "\n",
        "    # для добовления элемента \n",
        "    def push(self, item):\n",
        "        self.queue.append(item)\n",
        "\n",
        "    # для удаление элемента\n",
        "    def pop(self):\n",
        "        if len(self.queue) == 0:\n",
        "            return None\n",
        "        removed = self.queue.pop(0)\n",
        "        return removed\n",
        "    #  длина \n",
        "    def size(self):\n",
        "    \treturn len(self.queue)\n",
        "    # очиска\n",
        "    def clear(self):\n",
        "    \t# queue = []\n",
        "    \tfor i in range(len(self.queue)):\n",
        "    \t\tself.queue.pop()\n",
        "    # смотрим 1 элемент\n",
        "    def first(self):\n",
        "    \treturn self.queue[0]\n",
        "\n",
        "    # ИЗВЛЕЧЬ k-ый элемент\n",
        "    def extract(self,k):\n",
        "    \t# k = 2 # удаляем элемент К\n",
        "    \tif len(self.queue) >= k-1:\n",
        "    \t\tself.queue.pop(k-1)\n",
        "\n",
        "\n",
        "\n",
        "\n",
        "# основа кода\n",
        "queue = Queue()\n",
        "\n",
        "# добавление в очередь\n",
        "queue.push(1)\n",
        "queue.push(2)\n",
        "queue.push(3)\n",
        "queue.push(4)\n",
        "print(queue.queue) # вывод очереди\n",
        "\n",
        "print(queue.first()) # 1 элемент\n",
        "queue.extract(2) # удалим элемент K=2\n",
        "print(queue.queue) # вывод \n",
        "\n",
        "\n",
        "# удалить элемент\t\n",
        "queue.pop()\n",
        "print(queue.queue) # вывод \n",
        "\n",
        "\n",
        "print(queue.size()) # длина\n",
        "queue.clear() # очиска\n",
        "print(queue.queue) # вывод\n"
      ],
      "metadata": {
        "id": "esNdzKahXPzA"
      },
      "execution_count": null,
      "outputs": []
    }
  ]
}