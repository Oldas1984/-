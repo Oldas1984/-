{
  "nbformat": 4,
  "nbformat_minor": 0,
  "metadata": {
    "colab": {
      "name": "Untitled1.ipynbDZ6",
      "provenance": [],
      "authorship_tag": "ABX9TyMBpn/rpUH2nF8VkBYcOx7X",
      "include_colab_link": true
    },
    "kernelspec": {
      "name": "python3",
      "display_name": "Python 3"
    },
    "language_info": {
      "name": "python"
    }
  },
  "cells": [
    {
      "cell_type": "markdown",
      "metadata": {
        "id": "view-in-github",
        "colab_type": "text"
      },
      "source": [
        "<a href=\"https://colab.research.google.com/github/Oldas1984/-/blob/main/Untitled1_ipynbDZ6.ipynb\" target=\"_parent\"><img src=\"https://colab.research.google.com/assets/colab-badge.svg\" alt=\"Open In Colab\"/></a>"
      ]
    },
    {
      "cell_type": "markdown",
      "source": [
        "Дан список чисел. Определите, сколько в нем встречается различных чисел.\n"
      ],
      "metadata": {
        "id": "zeh_OSxs40gx"
      }
    },
    {
      "cell_type": "code",
      "source": [
        "print(len(set(input().split())))"
      ],
      "metadata": {
        "colab": {
          "base_uri": "https://localhost:8080/"
        },
        "id": "d4tljIoZ6FOV",
        "outputId": "817c8c6e-5b74-4b4f-9b1c-c03e68098c0e"
      },
      "execution_count": 1,
      "outputs": [
        {
          "output_type": "stream",
          "name": "stdout",
          "text": [
            "1 2 3 4 5 6 5 4 3 4 5\n",
            "6\n"
          ]
        }
      ]
    },
    {
      "cell_type": "markdown",
      "source": [
        "Даны два списка чисел. Посчитайте, сколько чисел содержится одновременно как в первом списке, так и во втором.\n"
      ],
      "metadata": {
        "id": "mJwImihO61Sm"
      }
    },
    {
      "cell_type": "code",
      "source": [
        "print(len(set(input().split()) & set(input().split())))"
      ],
      "metadata": {
        "colab": {
          "base_uri": "https://localhost:8080/"
        },
        "id": "0DwLDuVm61mF",
        "outputId": "6fd6ae9a-8da7-4ef8-ca6b-570f5bfa2af4"
      },
      "execution_count": 2,
      "outputs": [
        {
          "output_type": "stream",
          "name": "stdout",
          "text": [
            "1 2 3 4 5 6 5 4\n",
            " 2 3 4 5 6 7 6 5 4\n",
            "5\n"
          ]
        }
      ]
    },
    {
      "cell_type": "markdown",
      "source": [
        "Даны два списка чисел. Найдите все числа, которые входят как в первый, так и во второй список и выведите их в порядке возрастания.\n"
      ],
      "metadata": {
        "id": "-6ac4zdu8LEQ"
      }
    },
    {
      "cell_type": "code",
      "source": [
        "print(*sorted(set(input().split()) & set(input().split()), key=int))"
      ],
      "metadata": {
        "colab": {
          "base_uri": "https://localhost:8080/"
        },
        "id": "dToPAVQS8LXp",
        "outputId": "af1d26f6-0dcc-4378-a921-6c939abcedeb"
      },
      "execution_count": 3,
      "outputs": [
        {
          "output_type": "stream",
          "name": "stdout",
          "text": [
            "1 2 3 4 5 6 5\n",
            " 5 6 7 8 9 3 4 5 \n",
            "3 4 5 6\n"
          ]
        }
      ]
    },
    {
      "cell_type": "markdown",
      "source": [
        "Во входной строке записана последовательность чисел через пробел. Для каждого числа выведите слово YES (в отдельной строке), если это число ранее встречалось в последовательности или NO, если не встречалось."
      ],
      "metadata": {
        "id": "0079q7ArE2_G"
      }
    },
    {
      "cell_type": "code",
      "source": [
        "n=[int(s) for s in input().split()]\n",
        "a=set()\n",
        "for i in n:\n",
        "    if i in a:\n",
        "        print(i,'-Yes')\n",
        "    else:\n",
        "        a.add(i)\n",
        "        print(i,'-No')"
      ],
      "metadata": {
        "colab": {
          "base_uri": "https://localhost:8080/"
        },
        "id": "mXy_6I3rE3U6",
        "outputId": "77973957-2548-41bf-a86c-c7cdfcb0917a"
      },
      "execution_count": 5,
      "outputs": [
        {
          "output_type": "stream",
          "name": "stdout",
          "text": [
            "1 2 3 4 5 6 5 7 6 7\n",
            "1 -No\n",
            "2 -No\n",
            "3 -No\n",
            "4 -No\n",
            "5 -No\n",
            "6 -No\n",
            "5 -Yes\n",
            "7 -No\n",
            "6 -Yes\n",
            "7 -Yes\n"
          ]
        }
      ]
    },
    {
      "cell_type": "markdown",
      "source": [
        "Дан текст: в первой строке записано число строк, далее идут сами строки. Определите, сколько различных слов содержится в этом тексте.\n",
        "Словом считается последовательность непробельных символов идущих подряд, слова разделены одним или большим числом пробелов или символами конца строки.\n"
      ],
      "metadata": {
        "id": "cjLbEhc7HDlV"
      }
    },
    {
      "cell_type": "code",
      "source": [
        "a = set()\n",
        "for _ in range(int(input())):\n",
        "    a.update(input().split())\n",
        "print(len(a))"
      ],
      "metadata": {
        "id": "8KPpVZBpHD1w"
      },
      "execution_count": 7,
      "outputs": []
    },
    {
      "cell_type": "markdown",
      "source": [
        " В единственной строке записан текст. Для каждого слова из данного текста подсчитайте, сколько раз оно встречалось в этом тексте ранее.\n",
        "Словом считается последовательность непробельных символов идущих подряд, слова разделены одним или большим числом пробелов или символами конца строки.\n"
      ],
      "metadata": {
        "id": "Qw3NxXD_H5G-"
      }
    },
    {
      "cell_type": "code",
      "source": [
        "a = {}\n",
        "for b in input().split():\n",
        "    a[b] = counter.get(word, 0) + 1\n",
        "    print(a[b] - 1, end=' ')"
      ],
      "metadata": {
        "id": "hW89nq_jH5Yi"
      },
      "execution_count": null,
      "outputs": []
    },
    {
      "cell_type": "code",
      "source": [
        ""
      ],
      "metadata": {
        "id": "jDi1vrjkJJrR"
      },
      "execution_count": null,
      "outputs": []
    }
  ]
}