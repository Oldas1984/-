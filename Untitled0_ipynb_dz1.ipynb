{
  "nbformat": 4,
  "nbformat_minor": 0,
  "metadata": {
    "colab": {
      "name": "Untitled0.ipynb dz1",
      "provenance": [],
      "authorship_tag": "ABX9TyM0C0xAOfYIgGNWcMTwB+u7",
      "include_colab_link": true
    },
    "kernelspec": {
      "name": "python3",
      "display_name": "Python 3"
    },
    "language_info": {
      "name": "python"
    }
  },
  "cells": [
    {
      "cell_type": "markdown",
      "metadata": {
        "id": "view-in-github",
        "colab_type": "text"
      },
      "source": [
        "<a href=\"https://colab.research.google.com/github/Oldas1984/-/blob/main/Untitled0_ipynb_dz1.ipynb\" target=\"_parent\"><img src=\"https://colab.research.google.com/assets/colab-badge.svg\" alt=\"Open In Colab\"/></a>"
      ]
    },
    {
      "cell_type": "markdown",
      "source": [
        "поменяй местами значение 2 переменых"
      ],
      "metadata": {
        "id": "C0Bw1dScuTuI"
      }
    },
    {
      "cell_type": "code",
      "source": [
        "print(\"\")\n",
        "a=int(input())\n",
        "b=int(input())\n",
        "c=a\n",
        "d=b\n",
        "print(c)\n",
        "print(d)"
      ],
      "metadata": {
        "colab": {
          "base_uri": "https://localhost:8080/"
        },
        "id": "PALhDleSuUYS",
        "outputId": "bd69c3b5-a5af-4e49-fc9a-42a4c32e3fb3"
      },
      "execution_count": 28,
      "outputs": [
        {
          "output_type": "stream",
          "name": "stdout",
          "text": [
            "\n",
            "4\n",
            "5\n",
            "4\n",
            "5\n"
          ]
        }
      ]
    },
    {
      "cell_type": "markdown",
      "source": [
        "дано трехзначное число Найдите произведение их цифр"
      ],
      "metadata": {
        "id": "I91uWSRbDwyz"
      }
    },
    {
      "cell_type": "code",
      "source": [
        "print(\"\")\n",
        "a=int(input())\n",
        "b=a//100\n",
        "c=a%10\n",
        "d=(a-100*b-c)/10\n",
        "x=b*c*d\n",
        "print(x)"
      ],
      "metadata": {
        "colab": {
          "base_uri": "https://localhost:8080/"
        },
        "id": "ML_O5NW_EJQU",
        "outputId": "13c7fc86-ef8a-4209-e01d-c2c156686707"
      },
      "execution_count": 32,
      "outputs": [
        {
          "output_type": "stream",
          "name": "stdout",
          "text": [
            "\n",
            "342\n",
            "24.0\n"
          ]
        }
      ]
    },
    {
      "cell_type": "markdown",
      "source": [
        "даны 2 трехзначных числа Найти шестизначное число, щбразованое из двух данных чисел путем дописывание второго числа к первому"
      ],
      "metadata": {
        "id": "aKj4Vf7oFfPf"
      }
    },
    {
      "cell_type": "code",
      "source": [
        "print(\"\")\n",
        "a=int(input())\n",
        "b=int(input())\n",
        "c=1000*a+b\n",
        "print(c)"
      ],
      "metadata": {
        "colab": {
          "base_uri": "https://localhost:8080/"
        },
        "id": "nw_iYco3FgEl",
        "outputId": "97a8a3cc-83a5-4ded-a305-3c59f36a524c"
      },
      "execution_count": 34,
      "outputs": [
        {
          "output_type": "stream",
          "name": "stdout",
          "text": [
            "\n",
            "453\n",
            "654\n",
            "453654\n"
          ]
        }
      ]
    },
    {
      "cell_type": "markdown",
      "source": [
        "дано трехзначное число , замените среднее цифру на 0 "
      ],
      "metadata": {
        "id": "aRleiuZXG-fM"
      }
    },
    {
      "cell_type": "code",
      "source": [
        "print(\"\")\n",
        "a=int(input())\n",
        "b=a//100\n",
        "c=a%10\n",
        "x=100*b+c\n",
        "print(x)"
      ],
      "metadata": {
        "colab": {
          "base_uri": "https://localhost:8080/"
        },
        "id": "K3ZB97gTG-yS",
        "outputId": "8b00dd48-2d4c-4082-c794-6b3f6cd2460a"
      },
      "execution_count": 35,
      "outputs": [
        {
          "output_type": "stream",
          "name": "stdout",
          "text": [
            "\n",
            "678\n",
            "608\n"
          ]
        }
      ]
    },
    {
      "cell_type": "markdown",
      "source": [
        "дано трехзначное число, выведети на экран новое число , полученоное из исходного путем перестановки цифр в обратном порядке"
      ],
      "metadata": {
        "id": "PQQhAK3CIPYQ"
      }
    },
    {
      "cell_type": "code",
      "source": [
        "print(\"\")\n",
        "a=int(input())\n",
        "b=a//100\n",
        "c=a%10\n",
        "d=(a-100*b-c)/10\n",
        "x=100*c+b+10*d\n",
        "print(x)"
      ],
      "metadata": {
        "colab": {
          "base_uri": "https://localhost:8080/"
        },
        "id": "KebwEZ3WIPrc",
        "outputId": "ebe430a9-b16c-40e9-db43-12a88d9068b6"
      },
      "execution_count": 36,
      "outputs": [
        {
          "output_type": "stream",
          "name": "stdout",
          "text": [
            "\n",
            "764\n",
            "467.0\n"
          ]
        }
      ]
    }
  ]
}