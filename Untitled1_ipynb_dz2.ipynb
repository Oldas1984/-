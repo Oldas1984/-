{
  "nbformat": 4,
  "nbformat_minor": 0,
  "metadata": {
    "colab": {
      "name": "Untitled1.ipynb dz2",
      "provenance": [],
      "authorship_tag": "ABX9TyM01MkYdo77b+2fZS/EHD6p",
      "include_colab_link": true
    },
    "kernelspec": {
      "name": "python3",
      "display_name": "Python 3"
    },
    "language_info": {
      "name": "python"
    }
  },
  "cells": [
    {
      "cell_type": "markdown",
      "metadata": {
        "id": "view-in-github",
        "colab_type": "text"
      },
      "source": [
        "<a href=\"https://colab.research.google.com/github/Oldas1984/-/blob/main/Untitled1_ipynb_dz2.ipynb\" target=\"_parent\"><img src=\"https://colab.research.google.com/assets/colab-badge.svg\" alt=\"Open In Colab\"/></a>"
      ]
    },
    {
      "cell_type": "markdown",
      "source": [
        "калькулятор"
      ],
      "metadata": {
        "id": "ixXfhEuPKr2v"
      }
    },
    {
      "cell_type": "code",
      "source": [
        "A=float(input())\n",
        "B=float(input())\n",
        "C=str(input())\n",
        "if C== `+`\n",
        "print(A+B)\n",
        "elif C=`-`\n",
        "print(A-B)\n",
        "elif C==`*`\n",
        "print(A*B)\n",
        "elif C==`/` and b==0:\n",
        "  elif c==`/` and B!=0\n",
        "  print(A/B)\n",
        "\n",
        "\n"
      ],
      "metadata": {
        "colab": {
          "base_uri": "https://localhost:8080/",
          "height": 130
        },
        "id": "Y_KsxZhQKv-W",
        "outputId": "30a63222-2366-46fb-c6ea-7446428f1613"
      },
      "execution_count": 1,
      "outputs": [
        {
          "output_type": "error",
          "ename": "SyntaxError",
          "evalue": "ignored",
          "traceback": [
            "\u001b[0;36m  File \u001b[0;32m\"<ipython-input-1-1566e1bd7833>\"\u001b[0;36m, line \u001b[0;32m4\u001b[0m\n\u001b[0;31m    if C== `+`\u001b[0m\n\u001b[0m           ^\u001b[0m\n\u001b[0;31mSyntaxError\u001b[0m\u001b[0;31m:\u001b[0m invalid syntax\n"
          ]
        }
      ]
    }
  ]
}